{
 "cells": [
  {
   "cell_type": "code",
   "execution_count": 4,
   "metadata": {},
   "outputs": [
    {
     "name": "stdout",
     "output_type": "stream",
     "text": [
      "Note: you may need to restart the kernel to use updated packages.\n"
     ]
    },
    {
     "name": "stderr",
     "output_type": "stream",
     "text": [
      "'C:\\Users\\Kaustav' is not recognized as an internal or external command,\n",
      "operable program or batch file.\n"
     ]
    }
   ],
   "source": [
    "pip install --upgrade fpl"
   ]
  },
  {
   "cell_type": "code",
   "execution_count": 1,
   "metadata": {},
   "outputs": [],
   "source": [
    "import warnings\n",
    "warnings.filterwarnings(\"ignore\")"
   ]
  },
  {
   "cell_type": "code",
   "execution_count": 6,
   "metadata": {},
   "outputs": [
    {
     "name": "stdout",
     "output_type": "stream",
     "text": [
      "Note: you may need to restart the kernel to use updated packages.\n"
     ]
    },
    {
     "name": "stderr",
     "output_type": "stream",
     "text": [
      "'C:\\Users\\Kaustav' is not recognized as an internal or external command,\n",
      "operable program or batch file.\n"
     ]
    }
   ],
   "source": [
    "pip install paho-mqtt"
   ]
  },
  {
   "cell_type": "code",
   "execution_count": 4,
   "metadata": {},
   "outputs": [],
   "source": [
    "import asyncio\n",
    "import json\n",
    "import aiohttp\n",
    "from fpl import FPL\n",
    "import pandas as pd\n",
    "import json\n",
    "import requests\n",
    "import re\n",
    "import paho.mqtt.client as paho"
   ]
  },
  {
   "cell_type": "code",
   "execution_count": 5,
   "metadata": {},
   "outputs": [
    {
     "name": "stdout",
     "output_type": "stream",
     "text": [
      "[]\n",
      "False\n",
      "Empty DataFrame\n",
      "Columns: []\n",
      "Index: []\n",
      "        ID    Name  GW Points  Total Points\n",
      "0    42113   Nandy         43         144.0\n",
      "1  3750584  Soumya         45         117.0\n",
      "2   840827     Ari         46         152.0\n",
      "3    10929    Chow         46         158.0\n",
      "4   339474    Giri         54         122.0\n",
      "not sending\n",
      "[]\n",
      "True\n",
      "        ID    Name  GW Points  Total Points\n",
      "0    42113   Nandy         43         144.0\n",
      "1  3750584  Soumya         45         117.0\n",
      "2   840827     Ari         46         152.0\n",
      "3    10929    Chow         46         158.0\n",
      "4   339474    Giri         54         122.0\n",
      "        ID    Name  GW Points  Total Points\n",
      "0    42113   Nandy         43         144.0\n",
      "1  3750584  Soumya         45         117.0\n",
      "2   840827     Ari         46         152.0\n",
      "3    10929    Chow         46         158.0\n",
      "4   339474    Giri         54         122.0\n",
      "not sending\n",
      "[]\n",
      "True\n",
      "        ID    Name  GW Points  Total Points\n",
      "0    42113   Nandy         43         144.0\n",
      "1  3750584  Soumya         45         117.0\n",
      "2   840827     Ari         46         152.0\n",
      "3    10929    Chow         46         158.0\n",
      "4   339474    Giri         54         122.0\n",
      "        ID    Name  GW Points  Total Points\n",
      "0    42113   Nandy         43         144.0\n",
      "1  3750584  Soumya         45         117.0\n",
      "2   840827     Ari         46         152.0\n",
      "3    10929    Chow         46         158.0\n",
      "4   339474    Giri         54         122.0\n",
      "not sending\n",
      "[]\n",
      "True\n",
      "        ID    Name  GW Points  Total Points\n",
      "0    42113   Nandy         43         144.0\n",
      "1  3750584  Soumya         45         117.0\n",
      "2   840827     Ari         46         152.0\n",
      "3    10929    Chow         46         158.0\n",
      "4   339474    Giri         54         122.0\n",
      "        ID    Name  GW Points  Total Points\n",
      "0    42113   Nandy         43         144.0\n",
      "1  3750584  Soumya         45         117.0\n",
      "2   840827     Ari         46         152.0\n",
      "3    10929    Chow         46         158.0\n",
      "4   339474    Giri         54         122.0\n",
      "not sending\n",
      "[]\n"
     ]
    },
    {
     "ename": "ClientPayloadError",
     "evalue": "Response payload is not completed",
     "output_type": "error",
     "traceback": [
      "\u001b[1;31m---------------------------------------------------------------------------\u001b[0m",
      "\u001b[1;31mClientPayloadError\u001b[0m                        Traceback (most recent call last)",
      "\u001b[1;32m<ipython-input-5-d57100b20bad>\u001b[0m in \u001b[0;36m<module>\u001b[1;34m\u001b[0m\n\u001b[0;32m    200\u001b[0m \u001b[1;32mwhile\u001b[0m \u001b[1;32mTrue\u001b[0m\u001b[1;33m:\u001b[0m\u001b[1;33m\u001b[0m\u001b[1;33m\u001b[0m\u001b[0m\n\u001b[0;32m    201\u001b[0m     \u001b[0mchange\u001b[0m\u001b[1;33m=\u001b[0m\u001b[1;32mFalse\u001b[0m\u001b[1;33m\u001b[0m\u001b[1;33m\u001b[0m\u001b[0m\n\u001b[1;32m--> 202\u001b[1;33m     \u001b[0muserdf\u001b[0m\u001b[1;33m=\u001b[0m\u001b[1;32mawait\u001b[0m \u001b[0mmain\u001b[0m\u001b[1;33m(\u001b[0m\u001b[1;33m)\u001b[0m\u001b[1;33m\u001b[0m\u001b[1;33m\u001b[0m\u001b[0m\n\u001b[0m\u001b[0;32m    203\u001b[0m     \u001b[0mprint\u001b[0m\u001b[1;33m(\u001b[0m\u001b[0mnotfirstiter\u001b[0m\u001b[1;33m)\u001b[0m\u001b[1;33m\u001b[0m\u001b[1;33m\u001b[0m\u001b[0m\n\u001b[0;32m    204\u001b[0m     \u001b[0mprint\u001b[0m\u001b[1;33m(\u001b[0m\u001b[0molduserdf\u001b[0m\u001b[1;33m)\u001b[0m\u001b[1;33m\u001b[0m\u001b[1;33m\u001b[0m\u001b[0m\n",
      "\u001b[1;32m<ipython-input-5-d57100b20bad>\u001b[0m in \u001b[0;36mmain\u001b[1;34m()\u001b[0m\n\u001b[0;32m    131\u001b[0m                 \u001b[0mpick\u001b[0m\u001b[1;33m=\u001b[0m\u001b[0mpicks\u001b[0m\u001b[1;33m[\u001b[0m\u001b[0mcurrentgw\u001b[0m\u001b[1;33m]\u001b[0m\u001b[1;33m[\u001b[0m\u001b[0mj\u001b[0m\u001b[1;33m]\u001b[0m\u001b[1;33m\u001b[0m\u001b[1;33m\u001b[0m\u001b[0m\n\u001b[0;32m    132\u001b[0m                 \u001b[0mplayer\u001b[0m\u001b[1;33m=\u001b[0m\u001b[1;32mawait\u001b[0m \u001b[0mfpl\u001b[0m\u001b[1;33m.\u001b[0m\u001b[0mget_player\u001b[0m\u001b[1;33m(\u001b[0m\u001b[0mpick\u001b[0m\u001b[1;33m[\u001b[0m\u001b[1;34m'element'\u001b[0m\u001b[1;33m]\u001b[0m\u001b[1;33m)\u001b[0m\u001b[1;33m\u001b[0m\u001b[1;33m\u001b[0m\u001b[0m\n\u001b[1;32m--> 133\u001b[1;33m                 \u001b[1;32mawait\u001b[0m \u001b[0msubcheck\u001b[0m\u001b[1;33m(\u001b[0m\u001b[0mj\u001b[0m\u001b[1;33m,\u001b[0m\u001b[0mpick\u001b[0m\u001b[1;33m,\u001b[0m \u001b[0mpicks\u001b[0m\u001b[1;33m[\u001b[0m\u001b[0mcurrentgw\u001b[0m\u001b[1;33m]\u001b[0m\u001b[1;33m,\u001b[0m\u001b[0md\u001b[0m\u001b[1;33m,\u001b[0m\u001b[0mm\u001b[0m\u001b[1;33m,\u001b[0m\u001b[0mf\u001b[0m\u001b[1;33m)\u001b[0m\u001b[1;33m\u001b[0m\u001b[1;33m\u001b[0m\u001b[0m\n\u001b[0m\u001b[0;32m    134\u001b[0m                 \u001b[0mpick\u001b[0m\u001b[1;33m=\u001b[0m\u001b[0mpicks\u001b[0m\u001b[1;33m[\u001b[0m\u001b[0mcurrentgw\u001b[0m\u001b[1;33m]\u001b[0m\u001b[1;33m[\u001b[0m\u001b[0mj\u001b[0m\u001b[1;33m]\u001b[0m\u001b[1;33m\u001b[0m\u001b[1;33m\u001b[0m\u001b[0m\n\u001b[0;32m    135\u001b[0m                 \u001b[0mplayer\u001b[0m\u001b[1;33m=\u001b[0m\u001b[1;32mawait\u001b[0m \u001b[0mfpl\u001b[0m\u001b[1;33m.\u001b[0m\u001b[0mget_player\u001b[0m\u001b[1;33m(\u001b[0m\u001b[0mpick\u001b[0m\u001b[1;33m[\u001b[0m\u001b[1;34m'element'\u001b[0m\u001b[1;33m]\u001b[0m\u001b[1;33m)\u001b[0m\u001b[1;33m\u001b[0m\u001b[1;33m\u001b[0m\u001b[0m\n",
      "\u001b[1;32m<ipython-input-5-d57100b20bad>\u001b[0m in \u001b[0;36msubcheck\u001b[1;34m(j, pick, picks, d, m, f)\u001b[0m\n\u001b[0;32m     13\u001b[0m         \u001b[0mfixtureid\u001b[0m\u001b[1;33m=\u001b[0m\u001b[0mjson\u001b[0m\u001b[1;33m.\u001b[0m\u001b[0mloads\u001b[0m\u001b[1;33m(\u001b[0m\u001b[0mresponse\u001b[0m\u001b[1;33m.\u001b[0m\u001b[0mcontent\u001b[0m\u001b[1;33m)\u001b[0m\u001b[1;33m[\u001b[0m\u001b[1;34m'history'\u001b[0m\u001b[1;33m]\u001b[0m\u001b[1;33m[\u001b[0m\u001b[1;33m-\u001b[0m\u001b[1;36m1\u001b[0m\u001b[1;33m]\u001b[0m\u001b[1;33m[\u001b[0m\u001b[1;34m'fixture'\u001b[0m\u001b[1;33m]\u001b[0m\u001b[1;33m\u001b[0m\u001b[1;33m\u001b[0m\u001b[0m\n\u001b[0;32m     14\u001b[0m         \u001b[0mpickminutes\u001b[0m\u001b[1;33m=\u001b[0m\u001b[0mjson\u001b[0m\u001b[1;33m.\u001b[0m\u001b[0mloads\u001b[0m\u001b[1;33m(\u001b[0m\u001b[0mresponse\u001b[0m\u001b[1;33m.\u001b[0m\u001b[0mcontent\u001b[0m\u001b[1;33m)\u001b[0m\u001b[1;33m[\u001b[0m\u001b[1;34m'history'\u001b[0m\u001b[1;33m]\u001b[0m\u001b[1;33m[\u001b[0m\u001b[1;33m-\u001b[0m\u001b[1;36m1\u001b[0m\u001b[1;33m]\u001b[0m\u001b[1;33m[\u001b[0m\u001b[1;34m'minutes'\u001b[0m\u001b[1;33m]\u001b[0m\u001b[1;33m\u001b[0m\u001b[1;33m\u001b[0m\u001b[0m\n\u001b[1;32m---> 15\u001b[1;33m         \u001b[0mfixture\u001b[0m\u001b[1;33m=\u001b[0m\u001b[1;32mawait\u001b[0m \u001b[0mfpl\u001b[0m\u001b[1;33m.\u001b[0m\u001b[0mget_fixture\u001b[0m\u001b[1;33m(\u001b[0m\u001b[0mfixtureid\u001b[0m\u001b[1;33m)\u001b[0m\u001b[1;33m\u001b[0m\u001b[1;33m\u001b[0m\u001b[0m\n\u001b[0m\u001b[0;32m     16\u001b[0m \u001b[1;31m#         print(fixture.started)\u001b[0m\u001b[1;33m\u001b[0m\u001b[1;33m\u001b[0m\u001b[1;33m\u001b[0m\u001b[0m\n\u001b[0;32m     17\u001b[0m \u001b[1;31m#         print((fixture.started)&(pickminutes==0))\u001b[0m\u001b[1;33m\u001b[0m\u001b[1;33m\u001b[0m\u001b[1;33m\u001b[0m\u001b[0m\n",
      "\u001b[1;32m~\\anaconda3\\lib\\site-packages\\fpl\\fpl.py\u001b[0m in \u001b[0;36mget_fixture\u001b[1;34m(self, fixture_id, return_json)\u001b[0m\n\u001b[0;32m    307\u001b[0m         \u001b[1;33m:\u001b[0m\u001b[0mraises\u001b[0m \u001b[0mValueError\u001b[0m\u001b[1;33m:\u001b[0m \u001b[1;32mif\u001b[0m \u001b[0mfixture\u001b[0m \u001b[1;32mwith\u001b[0m\u001b[0;31m \u001b[0m\u001b[0;31m`\u001b[0m\u001b[0;31m`\u001b[0m\u001b[0mfixture_id\u001b[0m\u001b[0;31m`\u001b[0m\u001b[0;31m`\u001b[0m \u001b[1;32mnot\u001b[0m \u001b[0mfound\u001b[0m\u001b[1;33m\u001b[0m\u001b[1;33m\u001b[0m\u001b[0m\n\u001b[0;32m    308\u001b[0m         \"\"\"\n\u001b[1;32m--> 309\u001b[1;33m         \u001b[0mfixtures\u001b[0m \u001b[1;33m=\u001b[0m \u001b[1;32mawait\u001b[0m \u001b[0mfetch\u001b[0m\u001b[1;33m(\u001b[0m\u001b[0mself\u001b[0m\u001b[1;33m.\u001b[0m\u001b[0msession\u001b[0m\u001b[1;33m,\u001b[0m \u001b[0mAPI_URLS\u001b[0m\u001b[1;33m[\u001b[0m\u001b[1;34m\"fixtures\"\u001b[0m\u001b[1;33m]\u001b[0m\u001b[1;33m)\u001b[0m\u001b[1;33m\u001b[0m\u001b[1;33m\u001b[0m\u001b[0m\n\u001b[0m\u001b[0;32m    310\u001b[0m \u001b[1;33m\u001b[0m\u001b[0m\n\u001b[0;32m    311\u001b[0m         \u001b[1;32mtry\u001b[0m\u001b[1;33m:\u001b[0m\u001b[1;33m\u001b[0m\u001b[1;33m\u001b[0m\u001b[0m\n",
      "\u001b[1;32m~\\anaconda3\\lib\\site-packages\\fpl\\utils.py\u001b[0m in \u001b[0;36mfetch\u001b[1;34m(session, url, retries, cooldown)\u001b[0m\n\u001b[0;32m     13\u001b[0m     \u001b[1;32mwhile\u001b[0m \u001b[1;32mTrue\u001b[0m\u001b[1;33m:\u001b[0m\u001b[1;33m\u001b[0m\u001b[1;33m\u001b[0m\u001b[0m\n\u001b[0;32m     14\u001b[0m         \u001b[1;32masync\u001b[0m \u001b[1;32mwith\u001b[0m \u001b[0msession\u001b[0m\u001b[1;33m.\u001b[0m\u001b[0mget\u001b[0m\u001b[1;33m(\u001b[0m\u001b[0murl\u001b[0m\u001b[1;33m,\u001b[0m \u001b[0mheaders\u001b[0m\u001b[1;33m=\u001b[0m\u001b[0mheaders\u001b[0m\u001b[1;33m,\u001b[0m \u001b[0mraise_for_status\u001b[0m\u001b[1;33m=\u001b[0m\u001b[1;32mTrue\u001b[0m\u001b[1;33m)\u001b[0m \u001b[1;32mas\u001b[0m \u001b[0mresponse\u001b[0m\u001b[1;33m:\u001b[0m\u001b[1;33m\u001b[0m\u001b[1;33m\u001b[0m\u001b[0m\n\u001b[1;32m---> 15\u001b[1;33m             \u001b[0mresult\u001b[0m \u001b[1;33m=\u001b[0m \u001b[1;32mawait\u001b[0m \u001b[0mresponse\u001b[0m\u001b[1;33m.\u001b[0m\u001b[0mjson\u001b[0m\u001b[1;33m(\u001b[0m\u001b[1;33m)\u001b[0m\u001b[1;33m\u001b[0m\u001b[1;33m\u001b[0m\u001b[0m\n\u001b[0m\u001b[0;32m     16\u001b[0m             \u001b[1;32mreturn\u001b[0m \u001b[0mresult\u001b[0m\u001b[1;33m\u001b[0m\u001b[1;33m\u001b[0m\u001b[0m\n\u001b[0;32m     17\u001b[0m         \u001b[0mretries_count\u001b[0m \u001b[1;33m+=\u001b[0m \u001b[1;36m1\u001b[0m\u001b[1;33m\u001b[0m\u001b[1;33m\u001b[0m\u001b[0m\n",
      "\u001b[1;32m~\\anaconda3\\lib\\site-packages\\aiohttp\\client_reqrep.py\u001b[0m in \u001b[0;36mjson\u001b[1;34m(self, encoding, loads, content_type)\u001b[0m\n\u001b[0;32m   1090\u001b[0m         \u001b[1;34m\"\"\"Read and decodes JSON response.\"\"\"\u001b[0m\u001b[1;33m\u001b[0m\u001b[1;33m\u001b[0m\u001b[0m\n\u001b[0;32m   1091\u001b[0m         \u001b[1;32mif\u001b[0m \u001b[0mself\u001b[0m\u001b[1;33m.\u001b[0m\u001b[0m_body\u001b[0m \u001b[1;32mis\u001b[0m \u001b[1;32mNone\u001b[0m\u001b[1;33m:\u001b[0m\u001b[1;33m\u001b[0m\u001b[1;33m\u001b[0m\u001b[0m\n\u001b[1;32m-> 1092\u001b[1;33m             \u001b[1;32mawait\u001b[0m \u001b[0mself\u001b[0m\u001b[1;33m.\u001b[0m\u001b[0mread\u001b[0m\u001b[1;33m(\u001b[0m\u001b[1;33m)\u001b[0m\u001b[1;33m\u001b[0m\u001b[1;33m\u001b[0m\u001b[0m\n\u001b[0m\u001b[0;32m   1093\u001b[0m \u001b[1;33m\u001b[0m\u001b[0m\n\u001b[0;32m   1094\u001b[0m         \u001b[1;32mif\u001b[0m \u001b[0mcontent_type\u001b[0m\u001b[1;33m:\u001b[0m\u001b[1;33m\u001b[0m\u001b[1;33m\u001b[0m\u001b[0m\n",
      "\u001b[1;32m~\\anaconda3\\lib\\site-packages\\aiohttp\\client_reqrep.py\u001b[0m in \u001b[0;36mread\u001b[1;34m(self)\u001b[0m\n\u001b[0;32m   1030\u001b[0m         \u001b[1;32mif\u001b[0m \u001b[0mself\u001b[0m\u001b[1;33m.\u001b[0m\u001b[0m_body\u001b[0m \u001b[1;32mis\u001b[0m \u001b[1;32mNone\u001b[0m\u001b[1;33m:\u001b[0m\u001b[1;33m\u001b[0m\u001b[1;33m\u001b[0m\u001b[0m\n\u001b[0;32m   1031\u001b[0m             \u001b[1;32mtry\u001b[0m\u001b[1;33m:\u001b[0m\u001b[1;33m\u001b[0m\u001b[1;33m\u001b[0m\u001b[0m\n\u001b[1;32m-> 1032\u001b[1;33m                 \u001b[0mself\u001b[0m\u001b[1;33m.\u001b[0m\u001b[0m_body\u001b[0m \u001b[1;33m=\u001b[0m \u001b[1;32mawait\u001b[0m \u001b[0mself\u001b[0m\u001b[1;33m.\u001b[0m\u001b[0mcontent\u001b[0m\u001b[1;33m.\u001b[0m\u001b[0mread\u001b[0m\u001b[1;33m(\u001b[0m\u001b[1;33m)\u001b[0m\u001b[1;33m\u001b[0m\u001b[1;33m\u001b[0m\u001b[0m\n\u001b[0m\u001b[0;32m   1033\u001b[0m                 \u001b[1;32mfor\u001b[0m \u001b[0mtrace\u001b[0m \u001b[1;32min\u001b[0m \u001b[0mself\u001b[0m\u001b[1;33m.\u001b[0m\u001b[0m_traces\u001b[0m\u001b[1;33m:\u001b[0m\u001b[1;33m\u001b[0m\u001b[1;33m\u001b[0m\u001b[0m\n\u001b[0;32m   1034\u001b[0m                     await trace.send_response_chunk_received(\n",
      "\u001b[1;32m~\\anaconda3\\lib\\site-packages\\aiohttp\\streams.py\u001b[0m in \u001b[0;36mread\u001b[1;34m(self, n)\u001b[0m\n\u001b[0;32m    368\u001b[0m             \u001b[0mblocks\u001b[0m \u001b[1;33m=\u001b[0m \u001b[1;33m[\u001b[0m\u001b[1;33m]\u001b[0m\u001b[1;33m\u001b[0m\u001b[1;33m\u001b[0m\u001b[0m\n\u001b[0;32m    369\u001b[0m             \u001b[1;32mwhile\u001b[0m \u001b[1;32mTrue\u001b[0m\u001b[1;33m:\u001b[0m\u001b[1;33m\u001b[0m\u001b[1;33m\u001b[0m\u001b[0m\n\u001b[1;32m--> 370\u001b[1;33m                 \u001b[0mblock\u001b[0m \u001b[1;33m=\u001b[0m \u001b[1;32mawait\u001b[0m \u001b[0mself\u001b[0m\u001b[1;33m.\u001b[0m\u001b[0mreadany\u001b[0m\u001b[1;33m(\u001b[0m\u001b[1;33m)\u001b[0m\u001b[1;33m\u001b[0m\u001b[1;33m\u001b[0m\u001b[0m\n\u001b[0m\u001b[0;32m    371\u001b[0m                 \u001b[1;32mif\u001b[0m \u001b[1;32mnot\u001b[0m \u001b[0mblock\u001b[0m\u001b[1;33m:\u001b[0m\u001b[1;33m\u001b[0m\u001b[1;33m\u001b[0m\u001b[0m\n\u001b[0;32m    372\u001b[0m                     \u001b[1;32mbreak\u001b[0m\u001b[1;33m\u001b[0m\u001b[1;33m\u001b[0m\u001b[0m\n",
      "\u001b[1;32m~\\anaconda3\\lib\\site-packages\\aiohttp\\streams.py\u001b[0m in \u001b[0;36mreadany\u001b[1;34m(self)\u001b[0m\n\u001b[0;32m    390\u001b[0m         \u001b[1;31m# without feeding any data\u001b[0m\u001b[1;33m\u001b[0m\u001b[1;33m\u001b[0m\u001b[1;33m\u001b[0m\u001b[0m\n\u001b[0;32m    391\u001b[0m         \u001b[1;32mwhile\u001b[0m \u001b[1;32mnot\u001b[0m \u001b[0mself\u001b[0m\u001b[1;33m.\u001b[0m\u001b[0m_buffer\u001b[0m \u001b[1;32mand\u001b[0m \u001b[1;32mnot\u001b[0m \u001b[0mself\u001b[0m\u001b[1;33m.\u001b[0m\u001b[0m_eof\u001b[0m\u001b[1;33m:\u001b[0m\u001b[1;33m\u001b[0m\u001b[1;33m\u001b[0m\u001b[0m\n\u001b[1;32m--> 392\u001b[1;33m             \u001b[1;32mawait\u001b[0m \u001b[0mself\u001b[0m\u001b[1;33m.\u001b[0m\u001b[0m_wait\u001b[0m\u001b[1;33m(\u001b[0m\u001b[1;34m\"readany\"\u001b[0m\u001b[1;33m)\u001b[0m\u001b[1;33m\u001b[0m\u001b[1;33m\u001b[0m\u001b[0m\n\u001b[0m\u001b[0;32m    393\u001b[0m \u001b[1;33m\u001b[0m\u001b[0m\n\u001b[0;32m    394\u001b[0m         \u001b[1;32mreturn\u001b[0m \u001b[0mself\u001b[0m\u001b[1;33m.\u001b[0m\u001b[0m_read_nowait\u001b[0m\u001b[1;33m(\u001b[0m\u001b[1;33m-\u001b[0m\u001b[1;36m1\u001b[0m\u001b[1;33m)\u001b[0m\u001b[1;33m\u001b[0m\u001b[1;33m\u001b[0m\u001b[0m\n",
      "\u001b[1;32m~\\anaconda3\\lib\\site-packages\\aiohttp\\streams.py\u001b[0m in \u001b[0;36m_wait\u001b[1;34m(self, func_name)\u001b[0m\n\u001b[0;32m    304\u001b[0m             \u001b[1;32mif\u001b[0m \u001b[0mself\u001b[0m\u001b[1;33m.\u001b[0m\u001b[0m_timer\u001b[0m\u001b[1;33m:\u001b[0m\u001b[1;33m\u001b[0m\u001b[1;33m\u001b[0m\u001b[0m\n\u001b[0;32m    305\u001b[0m                 \u001b[1;32mwith\u001b[0m \u001b[0mself\u001b[0m\u001b[1;33m.\u001b[0m\u001b[0m_timer\u001b[0m\u001b[1;33m:\u001b[0m\u001b[1;33m\u001b[0m\u001b[1;33m\u001b[0m\u001b[0m\n\u001b[1;32m--> 306\u001b[1;33m                     \u001b[1;32mawait\u001b[0m \u001b[0mwaiter\u001b[0m\u001b[1;33m\u001b[0m\u001b[1;33m\u001b[0m\u001b[0m\n\u001b[0m\u001b[0;32m    307\u001b[0m             \u001b[1;32melse\u001b[0m\u001b[1;33m:\u001b[0m\u001b[1;33m\u001b[0m\u001b[1;33m\u001b[0m\u001b[0m\n\u001b[0;32m    308\u001b[0m                 \u001b[1;32mawait\u001b[0m \u001b[0mwaiter\u001b[0m\u001b[1;33m\u001b[0m\u001b[1;33m\u001b[0m\u001b[0m\n",
      "\u001b[1;31mClientPayloadError\u001b[0m: Response payload is not completed"
     ]
    }
   ],
   "source": [
    "async def main():\n",
    "    def points(player):\n",
    "#         print(player.web_name)\n",
    "#         print(player.event_points)\n",
    "        \n",
    "        return player.event_points\n",
    "            \n",
    "#     def bonus(event):\n",
    "    async def subcheck(j,pick,picks,d,m,f):\n",
    "        id=pick['element']\n",
    "        response = requests.get('https://fantasy.premierleague.com/api/element-summary/'+str(id)+'/',verify=False)\n",
    "#         print(json.loads(response.content)['history'][-1]['fixture'])\n",
    "        fixtureid=json.loads(response.content)['history'][-1]['fixture']\n",
    "        pickminutes=json.loads(response.content)['history'][-1]['minutes']\n",
    "        fixture=await fpl.get_fixture(fixtureid)\n",
    "#         print(fixture.started)\n",
    "#         print((fixture.started)&(pickminutes==0))\n",
    "        if((fixture.started) & (pickminutes==0)):\n",
    "#             print(pickminutes)\n",
    "            p=await fpl.get_player(pick['element'])\n",
    "            pos=p.element_type            \n",
    "            if(pos!=1):\n",
    "                for i in range(3):\n",
    "                    subid=picks[12+i]['element']\n",
    "                    subresponse=requests.get('https://fantasy.premierleague.com/api/element-summary/'+str(subid)+'/',verify=False)\n",
    "                    \n",
    "                    subfixtureid=json.loads(subresponse.content)['history'][-1]['fixture']\n",
    "                    subminutes=json.loads(subresponse.content)['history'][-1]['minutes']\n",
    "                    subfixture=await fpl.get_fixture(subfixtureid)\n",
    "                    subp=await fpl.get_player(subid)\n",
    "                    subpos=subp.element_type\n",
    "                    if(not((subfixture.started) & (subminutes==0))):\n",
    "#                         print(pos)\n",
    "#                         print(((pos==2)&(d==3)) or ((pos==3)&(m==2)) or ((pos==4)&(f==1)))\n",
    "                        if(((pos==2)&(d==3)) or ((pos==3)&(m==2)) or ((pos==4)&(f==1))):\n",
    "                            if(subpos==pos):\n",
    "                                picks[j], picks[12+i]=picks[12+i], picks[j]\n",
    "#                                 print(\"working\")\n",
    "                                break\n",
    "                        else:\n",
    "                            picks[j], picks[12+i]=picks[12+i], picks[j]\n",
    "                            if(pos!=subpos):\n",
    "                                if(pos==2):\n",
    "                                    d=d-1\n",
    "                                if(pos==3):\n",
    "                                    m=m-1\n",
    "                                if(pos==4):\n",
    "                                    f=f-1\n",
    "                                if(subpos==2):\n",
    "                                    d=d+1\n",
    "                                if(subpos==3):\n",
    "                                    m=m+1\n",
    "                                if(subpos==4):\n",
    "                                    f=f+1\n",
    "                            break\n",
    "            else:\n",
    "                picks[j], picks[11]=picks[11], picks[j]\n",
    "                \n",
    "                    \n",
    "                \n",
    "            \n",
    "        \n",
    "        \n",
    "    async with aiohttp.ClientSession() as session:\n",
    "        currentgw=1\n",
    "        fpl = FPL(session)\n",
    "        await fpl.login('userid', 'password')\n",
    "        response = requests.get('https://fantasy.premierleague.com/api/fixtures/?event='+str(currentgw),verify=True)\n",
    "#         print(response.text)\n",
    "        gwfixturedata=json.loads(response.content)\n",
    "        ids=[42113, 3750584, 840827, 10929, 339474]\n",
    "        nicks=['Nandy', 'Soumya', 'Ari', 'Chow', 'Giri']\n",
    "        bonus1=[]\n",
    "        bonus2=[]\n",
    "        bonus3=[]\n",
    "        userdf=pd.DataFrame(data=ids).rename(columns={0: \"ID\"})\n",
    "        userdf['Name']=''\n",
    "        userdf['GW Points']=0\n",
    "        for f in gwfixturedata:\n",
    "            fixture=await fpl.get_fixture(f['id'])\n",
    "            if((fixture.started)&(((len(fixture.get_bonus()['a'])+len(fixture.get_bonus()['h']))==0))):\n",
    "    #             print(fixture.stats)\n",
    "                bonus=sorted((fixture.stats['bps']['a'] + fixture.stats['bps']['h']), key = lambda i: i['value'],reverse=True)\n",
    "                bi=3\n",
    "                ai=3\n",
    "                last=0\n",
    "                for b in bonus:\n",
    "                    if(b['value']!=last):\n",
    "                        ai=bi\n",
    "                    last=b['value']\n",
    "                    if(ai<1):\n",
    "                        break\n",
    "                    if(ai==3):\n",
    "                        bonus3.append(b)\n",
    "                    if(ai==2):\n",
    "                        bonus2.append(b)\n",
    "                    if(ai==1):\n",
    "                        bonus1.append(b)\n",
    "                    \n",
    "                    bi=bi-1\n",
    "\n",
    "        print(bonus2)\n",
    "        i=0\n",
    "        picksarray=[]\n",
    "        for id in ids: \n",
    "            user=await fpl.get_user(id)\n",
    "            responsep = requests.get('https://fantasy.premierleague.com/api/entry/'+str(id)+'/event/'+str(currentgw)+'/picks/',verify=True)\n",
    "#             print(json.loads(responsep.content))\n",
    "            userdf.loc[userdf['ID']==id, 'Total Points']=json.loads(responsep.content)['entry_history']['total_points']\n",
    "            picks = await user.get_picks(currentgw)\n",
    "#             userdf.loc[userdf['ID']==id, 'Name']=user.player_first_name+' '+user.player_last_name\n",
    "            userdf.loc[userdf['ID']==id, 'Name']=nicks[i]\n",
    "#             print(user)\n",
    "            m=0\n",
    "            f=0\n",
    "            d=0\n",
    "            for pick in picks[currentgw]:\n",
    "                player=await fpl.get_player(pick['element'])\n",
    "                if(player.element_type==2):\n",
    "                    d=d+1\n",
    "                if(player.element_type==3):\n",
    "                    m=m+1\n",
    "                if(player.element_type==4):\n",
    "                    f=f+1\n",
    "                if(m+f+d==10):\n",
    "                    break\n",
    "            point=0\n",
    "            captainpoints=0\n",
    "            vcpoints=0\n",
    "            for j in range(11):\n",
    "                pick=picks[currentgw][j]\n",
    "                player=await fpl.get_player(pick['element'])\n",
    "                await subcheck(j,pick, picks[currentgw],d,m,f)\n",
    "                pick=picks[currentgw][j]\n",
    "                player=await fpl.get_player(pick['element'])\n",
    "                p=points(player)\n",
    "                if(any(b.get('element') == pick['element'] for b in bonus3)):\n",
    "                    p=p+3\n",
    "                if(any(b.get('element') == pick['element'] for b in bonus2)):\n",
    "                    p=p+2\n",
    "                if(any(b.get('element') == pick['element'] for b in bonus1)):\n",
    "                    p=p+1                    \n",
    "#                 print(picks[currentgw])        \n",
    "#                 team=await fpl.get_team(player.for pick in picks[currentgw]:team)\n",
    "#                 gw=await fpl.get_gameweek(1)\n",
    "                if(pick['is_captain'] ):\n",
    "                    captainpoints=p\n",
    "                if(pick['is_vice_captain'] ):\n",
    "                    vcpoints=p\n",
    "                point=point+p\n",
    "#                 print(point)\n",
    "            if(captainpoints==0):\n",
    "                point=point+vcpoints\n",
    "            else:\n",
    "                point=point+captainpoints\n",
    "#             point=point-user.entry.event_transfers_cost\n",
    "            extra_transfer=2\n",
    "            transfergw=currentgw\n",
    "            transfercount=0\n",
    "            event_transfers=0\n",
    "            usertransfers=await user.get_transfers()\n",
    "            for t in usertransfers:\n",
    "#                 print(t)\n",
    "                if(t['event']==currentgw):\n",
    "                    event_transfers=event_transfers+1\n",
    "                else:\n",
    "                    if(transfergw-t['event']>1):\n",
    "                        extra_transfer=1\n",
    "                        transfergw=t['event']\n",
    "                        break\n",
    "                    if(t['event']==transfergw):\n",
    "                        transfercount=transfercount+1\n",
    "                        extra_transfer=0;\n",
    "                        transfergw=t['event']\n",
    "                        break;\n",
    "                    transfergw=t['event']\n",
    "            if(event_transfers==0):\n",
    "                event_transfers=1\n",
    "            if(extra_transfer==0):\n",
    "#                 print(user)\n",
    "                point=point-((event_transfers-1)*4)\n",
    "            if(extra_transfer==1):\n",
    "                if(event_transfers==1):\n",
    "                    event_transfers=2\n",
    "                point=point-((event_transfers-2)*4)                \n",
    "            userdf.loc[userdf['ID']==id, 'GW Points']=point\n",
    "            userdf.loc[userdf['ID']==id, 'Total Points']=userdf.loc[userdf['ID']==id, 'Total Points']+point\n",
    "#             if(id==173257):\n",
    "#                 print(picks[1][0])\n",
    "            i=i+1\n",
    "        player= await fpl.get_player(375)\n",
    "#         print(dir(player))\n",
    "        return(userdf)\n",
    "\n",
    "# await main()\n",
    "\n",
    "# loop = asyncio.get_event_loop()\n",
    "notfirstiter=False\n",
    "olduserdf=pd.DataFrame()\n",
    "while True:\n",
    "    change=False\n",
    "    userdf=await main()\n",
    "    print(notfirstiter)\n",
    "    print(olduserdf)\n",
    "    print(userdf )\n",
    "    if(notfirstiter):\n",
    "        for index,row in  userdf.iterrows():\n",
    "            if(row['GW Points']-olduserdf.iloc[index]['GW Points']>2):\n",
    "                change=True\n",
    "                break\n",
    "    if((change)):\n",
    "        print(\"sending\")\n",
    "        client = paho.Client()\n",
    "        client.connect(\"broker.hivemq.com\",1883)\n",
    "        client.publish(\"FPL\",userdf.to_string(), qos=2)\n",
    "    else:\n",
    "        print(\"not sending\")\n",
    "    olduserdf=userdf\n",
    "    notfirstiter=True"
   ]
  },
  {
   "cell_type": "code",
   "execution_count": null,
   "metadata": {},
   "outputs": [],
   "source": [
    "response = requests.get('https://fantasy.premierleague.com/api/element-summary/302/',verify=False)\n",
    "print(json.loads(response.content)['history'])"
   ]
  },
  {
   "cell_type": "code",
   "execution_count": 3,
   "metadata": {},
   "outputs": [
    {
     "data": {
      "text/plain": [
       "<paho.mqtt.client.MQTTMessageInfo at 0x2246f34ca90>"
      ]
     },
     "execution_count": 3,
     "metadata": {},
     "output_type": "execute_result"
    }
   ],
   "source": [
    "client = paho.Client()\n",
    "client.connect(\"broker.hivemq.com\",1883)\n",
    "client.publish(\"FPL\",\"Dumbe\", qos=2)"
   ]
  },
  {
   "cell_type": "code",
   "execution_count": 2,
   "metadata": {},
   "outputs": [
    {
     "ename": "NameError",
     "evalue": "name 'fpl' is not defined",
     "output_type": "error",
     "traceback": [
      "\u001b[1;31m---------------------------------------------------------------------------\u001b[0m",
      "\u001b[1;31mNameError\u001b[0m                                 Traceback (most recent call last)",
      "\u001b[1;32m<ipython-input-2-d0526fe82c0b>\u001b[0m in \u001b[0;36m<module>\u001b[1;34m\u001b[0m\n\u001b[1;32m----> 1\u001b[1;33m \u001b[0mfixture\u001b[0m\u001b[1;33m=\u001b[0m\u001b[1;32mawait\u001b[0m \u001b[0mfpl\u001b[0m\u001b[1;33m.\u001b[0m\u001b[0mget_fixture\u001b[0m\u001b[1;33m(\u001b[0m\u001b[1;36m45\u001b[0m\u001b[1;33m)\u001b[0m\u001b[1;33m\u001b[0m\u001b[1;33m\u001b[0m\u001b[0m\n\u001b[0m\u001b[0;32m      2\u001b[0m \u001b[0mprint\u001b[0m\u001b[1;33m(\u001b[0m\u001b[0mfixture\u001b[0m\u001b[1;33m.\u001b[0m\u001b[0mstats\u001b[0m\u001b[1;33m)\u001b[0m\u001b[1;33m\u001b[0m\u001b[1;33m\u001b[0m\u001b[0m\n",
      "\u001b[1;31mNameError\u001b[0m: name 'fpl' is not defined"
     ]
    }
   ],
   "source": [
    "fixture=await fpl.get_fixture(45)\n",
    "print(fixture.stats)"
   ]
  },
  {
   "cell_type": "code",
   "execution_count": 20,
   "metadata": {},
   "outputs": [
    {
     "ename": "RuntimeError",
     "evalue": "This event loop is already running",
     "output_type": "error",
     "traceback": [
      "\u001b[1;31m---------------------------------------------------------------------------\u001b[0m",
      "\u001b[1;31mRuntimeError\u001b[0m                              Traceback (most recent call last)",
      "\u001b[1;32m<ipython-input-20-5776d10d15a1>\u001b[0m in \u001b[0;36m<module>\u001b[1;34m\u001b[0m\n\u001b[1;32m----> 1\u001b[1;33m \u001b[0masyncio\u001b[0m\u001b[1;33m.\u001b[0m\u001b[0mget_event_loop\u001b[0m\u001b[1;33m(\u001b[0m\u001b[1;33m)\u001b[0m\u001b[1;33m.\u001b[0m\u001b[0mrun_until_complete\u001b[0m\u001b[1;33m(\u001b[0m\u001b[0mmain\u001b[0m\u001b[1;33m(\u001b[0m\u001b[1;33m)\u001b[0m\u001b[1;33m)\u001b[0m\u001b[1;33m\u001b[0m\u001b[1;33m\u001b[0m\u001b[0m\n\u001b[0m",
      "\u001b[1;32m~\\anaconda3\\lib\\asyncio\\base_events.py\u001b[0m in \u001b[0;36mrun_until_complete\u001b[1;34m(self, future)\u001b[0m\n\u001b[0;32m    590\u001b[0m         \"\"\"\n\u001b[0;32m    591\u001b[0m         \u001b[0mself\u001b[0m\u001b[1;33m.\u001b[0m\u001b[0m_check_closed\u001b[0m\u001b[1;33m(\u001b[0m\u001b[1;33m)\u001b[0m\u001b[1;33m\u001b[0m\u001b[1;33m\u001b[0m\u001b[0m\n\u001b[1;32m--> 592\u001b[1;33m         \u001b[0mself\u001b[0m\u001b[1;33m.\u001b[0m\u001b[0m_check_running\u001b[0m\u001b[1;33m(\u001b[0m\u001b[1;33m)\u001b[0m\u001b[1;33m\u001b[0m\u001b[1;33m\u001b[0m\u001b[0m\n\u001b[0m\u001b[0;32m    593\u001b[0m \u001b[1;33m\u001b[0m\u001b[0m\n\u001b[0;32m    594\u001b[0m         \u001b[0mnew_task\u001b[0m \u001b[1;33m=\u001b[0m \u001b[1;32mnot\u001b[0m \u001b[0mfutures\u001b[0m\u001b[1;33m.\u001b[0m\u001b[0misfuture\u001b[0m\u001b[1;33m(\u001b[0m\u001b[0mfuture\u001b[0m\u001b[1;33m)\u001b[0m\u001b[1;33m\u001b[0m\u001b[1;33m\u001b[0m\u001b[0m\n",
      "\u001b[1;32m~\\anaconda3\\lib\\asyncio\\base_events.py\u001b[0m in \u001b[0;36m_check_running\u001b[1;34m(self)\u001b[0m\n\u001b[0;32m    550\u001b[0m     \u001b[1;32mdef\u001b[0m \u001b[0m_check_running\u001b[0m\u001b[1;33m(\u001b[0m\u001b[0mself\u001b[0m\u001b[1;33m)\u001b[0m\u001b[1;33m:\u001b[0m\u001b[1;33m\u001b[0m\u001b[1;33m\u001b[0m\u001b[0m\n\u001b[0;32m    551\u001b[0m         \u001b[1;32mif\u001b[0m \u001b[0mself\u001b[0m\u001b[1;33m.\u001b[0m\u001b[0mis_running\u001b[0m\u001b[1;33m(\u001b[0m\u001b[1;33m)\u001b[0m\u001b[1;33m:\u001b[0m\u001b[1;33m\u001b[0m\u001b[1;33m\u001b[0m\u001b[0m\n\u001b[1;32m--> 552\u001b[1;33m             \u001b[1;32mraise\u001b[0m \u001b[0mRuntimeError\u001b[0m\u001b[1;33m(\u001b[0m\u001b[1;34m'This event loop is already running'\u001b[0m\u001b[1;33m)\u001b[0m\u001b[1;33m\u001b[0m\u001b[1;33m\u001b[0m\u001b[0m\n\u001b[0m\u001b[0;32m    553\u001b[0m         \u001b[1;32mif\u001b[0m \u001b[0mevents\u001b[0m\u001b[1;33m.\u001b[0m\u001b[0m_get_running_loop\u001b[0m\u001b[1;33m(\u001b[0m\u001b[1;33m)\u001b[0m \u001b[1;32mis\u001b[0m \u001b[1;32mnot\u001b[0m \u001b[1;32mNone\u001b[0m\u001b[1;33m:\u001b[0m\u001b[1;33m\u001b[0m\u001b[1;33m\u001b[0m\u001b[0m\n\u001b[0;32m    554\u001b[0m             raise RuntimeError(\n",
      "\u001b[1;31mRuntimeError\u001b[0m: This event loop is already running"
     ]
    }
   ],
   "source": [
    "asyncio.get_event_loop().run_until_complete(main())"
   ]
  },
  {
   "cell_type": "code",
   "execution_count": null,
   "metadata": {},
   "outputs": [],
   "source": []
  }
 ],
 "metadata": {
  "kernelspec": {
   "display_name": "Python 3",
   "language": "python",
   "name": "python3"
  },
  "language_info": {
   "codemirror_mode": {
    "name": "ipython",
    "version": 3
   },
   "file_extension": ".py",
   "mimetype": "text/x-python",
   "name": "python",
   "nbconvert_exporter": "python",
   "pygments_lexer": "ipython3",
   "version": "3.8.5"
  }
 },
 "nbformat": 4,
 "nbformat_minor": 4
}
